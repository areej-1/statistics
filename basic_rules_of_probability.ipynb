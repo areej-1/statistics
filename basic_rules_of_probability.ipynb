{
  "nbformat": 4,
  "nbformat_minor": 0,
  "metadata": {
    "colab": {
      "provenance": [],
      "authorship_tag": "ABX9TyOJyZOC5dbWYiqL06FNGjgB"
    },
    "kernelspec": {
      "name": "python3",
      "display_name": "Python 3"
    },
    "language_info": {
      "name": "python"
    }
  },
  "cells": [
    {
      "cell_type": "code",
      "execution_count": 13,
      "metadata": {
        "id": "1XomOzij9H3l"
      },
      "outputs": [],
      "source": [
        "import numpy as np"
      ]
    },
    {
      "cell_type": "code",
      "source": [
        "\n",
        "number_experiments = 1000000\n",
        "cter = 0\n",
        "rcter = 0\n",
        "for _ in range(number_experiments):\n",
        "  cter += np.random.choice([0, 1])\n",
        "  if cter%2==0 and np.random.choice(range(200)) == 4:\n",
        "    rcter +=1\n",
        "\n",
        "\n",
        "cter/number_experiments, rcter/number_experiments"
      ],
      "metadata": {
        "colab": {
          "base_uri": "https://localhost:8080/"
        },
        "id": "orSMITq79SUs",
        "outputId": "3a1ef861-c25b-405d-ddf1-6b913c807c69"
      },
      "execution_count": 14,
      "outputs": [
        {
          "output_type": "execute_result",
          "data": {
            "text/plain": [
              "(0.499628, 0.002375)"
            ]
          },
          "metadata": {},
          "execution_count": 14
        }
      ]
    },
    {
      "cell_type": "code",
      "source": [
        "number_experiments = 1000000\n",
        "cter = 0\n",
        "for _ in range(number_experiments):\n",
        "  cter += np.random.choice([0, 1])\n",
        "\n",
        "cter/number_experiments"
      ],
      "metadata": {
        "colab": {
          "base_uri": "https://localhost:8080/"
        },
        "id": "DyR9AFQU-gFP",
        "outputId": "c18e58da-a92c-440e-de6a-89ede873a069"
      },
      "execution_count": 15,
      "outputs": [
        {
          "output_type": "execute_result",
          "data": {
            "text/plain": [
              "0.500126"
            ]
          },
          "metadata": {},
          "execution_count": 15
        }
      ]
    },
    {
      "cell_type": "code",
      "source": [
        "number_experiments = 100\n",
        "cter = 0\n",
        "for _ in range(number_experiments):\n",
        "  cter += np.random.choice([0, 1])\n",
        "\n",
        "cter/number_experiments"
      ],
      "metadata": {
        "colab": {
          "base_uri": "https://localhost:8080/"
        },
        "id": "tqf70G_c9gTk",
        "outputId": "38093214-f12d-4323-d0e2-4759d9248e7f"
      },
      "execution_count": 16,
      "outputs": [
        {
          "output_type": "execute_result",
          "data": {
            "text/plain": [
              "0.55"
            ]
          },
          "metadata": {},
          "execution_count": 16
        }
      ]
    },
    {
      "cell_type": "code",
      "source": [
        "number_experiments = 100\n",
        "cter = 0\n",
        "for _ in range(number_experiments):\n",
        "  cter += np.random.choice([0, 1])\n",
        "\n",
        "cter/number_experiments"
      ],
      "metadata": {
        "colab": {
          "base_uri": "https://localhost:8080/"
        },
        "id": "pBD5FwQh-ZBf",
        "outputId": "3f200ac1-833e-4a1f-9d80-0441c001c9a5"
      },
      "execution_count": 17,
      "outputs": [
        {
          "output_type": "execute_result",
          "data": {
            "text/plain": [
              "0.47"
            ]
          },
          "metadata": {},
          "execution_count": 17
        }
      ]
    },
    {
      "cell_type": "code",
      "source": [
        "def pick_in_array(n):\n",
        "\n",
        "  arr = [0, 1, 2, 3, 4]\n",
        "  three_count = 0\n",
        "  one_count = 0\n",
        "  three_or_one = 0\n",
        "  curr = 0\n",
        "  for _ in range(n):\n",
        "    curr = np.random.choice(arr)\n",
        "    if curr == 1:\n",
        "      one_count+=1\n",
        "    if curr == 3:\n",
        "      three_count+=1\n",
        "    if curr in [1, 3]:\n",
        "        three_or_one +=1\n",
        "\n",
        "  return one_count/n, three_count/n, three_or_one/n"
      ],
      "metadata": {
        "id": "9JKVhRnJ-a1k"
      },
      "execution_count": 35,
      "outputs": []
    },
    {
      "cell_type": "code",
      "source": [
        "pick_in_array(100)"
      ],
      "metadata": {
        "colab": {
          "base_uri": "https://localhost:8080/"
        },
        "id": "IrBcZSTJEU5J",
        "outputId": "dfcf28d2-d5d8-4fb0-c2af-1dcabdb9d447"
      },
      "execution_count": 36,
      "outputs": [
        {
          "output_type": "execute_result",
          "data": {
            "text/plain": [
              "(0.23, 0.26, 0.49)"
            ]
          },
          "metadata": {},
          "execution_count": 36
        }
      ]
    },
    {
      "cell_type": "code",
      "source": [
        "def multiple(n):\n",
        "  #of 2, of 3, of 2 OR 3, of 2 AND 3\n",
        "  mul2 = 0\n",
        "  mul3 = 0\n",
        "  mul2or3 = 0\n",
        "  mul2and3 = 0\n",
        "  curr = 0\n",
        "  for _ in range(n):\n",
        "    curr = np.random.randint(n+1) #random int from 0 to n\n",
        "    if curr%2==0:\n",
        "      mul2+=1\n",
        "    if curr%3==0:\n",
        "      mul3+=1\n",
        "    if curr%2==0 and curr%3==0:\n",
        "      mul2and3+=1\n",
        "    if curr%2==0 or curr%3==0:\n",
        "      mul2or3+=1\n",
        "\n",
        "  return mul2or3 == mul2 + mul3 - mul2and3\n"
      ],
      "metadata": {
        "id": "b0QTTIy1FC4R"
      },
      "execution_count": 41,
      "outputs": []
    },
    {
      "cell_type": "code",
      "source": [
        "multiple(100)"
      ],
      "metadata": {
        "colab": {
          "base_uri": "https://localhost:8080/"
        },
        "id": "Cueqe5OOHfP2",
        "outputId": "7e195e21-5f75-41a4-9444-4762afb707e2"
      },
      "execution_count": 42,
      "outputs": [
        {
          "output_type": "execute_result",
          "data": {
            "text/plain": [
              "True"
            ]
          },
          "metadata": {},
          "execution_count": 42
        }
      ]
    },
    {
      "cell_type": "code",
      "source": [
        "def three_events(n):\n",
        "  #of 2, of 3, of 5, of 2 OR 3 OR 5, of 2 AND 3 AND 5, of 3 AND 5, of 2 AND 5, of 2 AND 3\n",
        "  mul2 = 0\n",
        "  mul3 = 0\n",
        "  mul5 = 0\n",
        "  mul2or3or5 = 0\n",
        "  mul2and3 = 0\n",
        "  mul3and5 = 0\n",
        "  mul2and5 = 0\n",
        "  mul2and3and5 = 0\n",
        "  curr = 0\n",
        "  for _ in range(n):\n",
        "    curr = np.random.randint(n+1)\n",
        "    if curr%2==0:\n",
        "      mul2+=1\n",
        "    if curr%3==0:\n",
        "      mul3+=1\n",
        "    if curr%5==0:\n",
        "      mul5+=1\n",
        "    if curr%2==0 and curr%3 == 0:\n",
        "      mul2and3+=1\n",
        "    if curr%2==0 and curr%5 == 0:\n",
        "      mul2and5+=1\n",
        "    if curr%3==0 and curr%5 == 0:\n",
        "      mul3and5+=1\n",
        "    if curr%2==0 and curr%3==0 and curr%5==0:\n",
        "      mul2and3and5+=1\n",
        "    if curr%2==0 or curr%3==0 or curr%5==0:\n",
        "      mul2or3or5+=1\n",
        "  return mul2or3or5 == mul2 + mul3 + mul5 - mul2and3 - mul2and5 - mul3and5 + mul2and3and5\n",
        ""
      ],
      "metadata": {
        "id": "asTD5p4IHgMP"
      },
      "execution_count": 47,
      "outputs": []
    },
    {
      "cell_type": "code",
      "source": [
        "three_events(100)"
      ],
      "metadata": {
        "colab": {
          "base_uri": "https://localhost:8080/"
        },
        "id": "ZoF8Gl30Jc8N",
        "outputId": "4870f316-122c-47dd-c837-264ea9aae27c"
      },
      "execution_count": 48,
      "outputs": [
        {
          "output_type": "execute_result",
          "data": {
            "text/plain": [
              "True"
            ]
          },
          "metadata": {},
          "execution_count": 48
        }
      ]
    },
    {
      "cell_type": "code",
      "source": [],
      "metadata": {
        "id": "PXcRcYumJeJp"
      },
      "execution_count": null,
      "outputs": []
    }
  ]
}